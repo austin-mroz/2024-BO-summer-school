{
 "cells": [
  {
   "cell_type": "markdown",
   "metadata": {},
   "source": [
    "# BOFire Reaction Optimization Example"
   ]
  },
  {
   "cell_type": "markdown",
   "metadata": {},
   "source": [
    "This notebook follows the example set out in https://github.com/experimental-design/bofire/blob/main/tutorials/basic_examples/Reaction_Optimization_Example.ipynb"
   ]
  },
  {
   "cell_type": "code",
   "execution_count": 1,
   "metadata": {},
   "outputs": [],
   "source": [
    "# python imports we'll need in this notebook\n",
    "from pprint import pprint as pp\n",
    "import pandas as pd\n",
    "import matplotlib.pyplot as plt\n",
    "import numpy as np\n",
    "import time\n",
    "import os"
   ]
  },
  {
   "cell_type": "markdown",
   "metadata": {},
   "source": [
    "## Setting up the optimization problem as a Reaction Domain\n"
   ]
  },
  {
   "cell_type": "code",
   "execution_count": 2,
   "metadata": {},
   "outputs": [],
   "source": [
    "from bofire.data_models.domain.api import Domain\n",
    "from bofire.data_models.domain.api import Inputs, Outputs\n",
    "from bofire.data_models.features.api import ContinuousInput, ContinuousOutput, CategoricalInput, CategoricalDescriptorInput  # we won't need all of those."
   ]
  },
  {
   "cell_type": "code",
   "execution_count": 3,
   "metadata": {},
   "outputs": [],
   "source": [
    "# We wish the temperature of the reaction to be between 30 and 110 °C\n",
    "temperature_feature = ContinuousInput(key='Temperature', bounds = [30.0, 110.0], unit='°C')\n",
    "\n",
    "# Catalyst Loading\n",
    "catalyst_loading_feature = ContinuousInput(key='Catalyst Loading', bounds=[0.5,2], unit=\"%\")\n",
    "\n",
    "# Residence Time\n",
    "residence_time_feature = ContinuousInput(key='Residence Time', bounds=[1, 10], unit=\"minutes\")\n",
    "\n",
    "# Catalyst choice\n",
    "catalyst_feature = CategoricalInput(\n",
    "    key = 'Catalyst', \n",
    "    categories = ['[P1-L1]','[P2-L1]','[P1-L2]', '[P1-L3]', '[P1-L4]', '[P1-L5]', '[P1-L6]', '[P1-L7]']\n",
    ")\n",
    "\n",
    "# gather all individual features\n",
    "input_features = Inputs(\n",
    "    features = [\n",
    "        temperature_feature,\n",
    "        catalyst_loading_feature,\n",
    "        residence_time_feature, \n",
    "        catalyst_feature,\n",
    "    ]\n",
    ")"
   ]
  },
  {
   "cell_type": "code",
   "execution_count": 4,
   "metadata": {},
   "outputs": [],
   "source": [
    "# outputs: we wish to maximize the Yield\n",
    "# import Maximize Objective to tell the optimizer you wish to optimize\n",
    "from bofire.data_models.objectives.api import MaximizeObjective\n",
    "\n",
    "objective = MaximizeObjective(\n",
    "    w=1.0,\n",
    ")\n",
    "yield_feature = ContinuousOutput(key=\"Yield\", objective=objective)\n",
    "# create an output feature\n",
    "output_features = Outputs(features=[yield_feature])\n"
   ]
  },
  {
   "cell_type": "code",
   "execution_count": 5,
   "metadata": {},
   "outputs": [
    {
     "data": {
      "text/plain": [
       "MaximizeObjective(type='MaximizeObjective', w=1.0, bounds=(0, 1))"
      ]
     },
     "execution_count": 5,
     "metadata": {},
     "output_type": "execute_result"
    }
   ],
   "source": [
    "objective"
   ]
  },
  {
   "cell_type": "code",
   "execution_count": 6,
   "metadata": {},
   "outputs": [
    {
     "name": "stdout",
     "output_type": "stream",
     "text": [
      "input_features: type='Inputs' features=[ContinuousInput(type='ContinuousInput', key='Temperature', unit='°C', bounds=(30.0, 110.0), local_relative_bounds=None, stepsize=None), ContinuousInput(type='ContinuousInput', key='Catalyst Loading', unit='%', bounds=(0.5, 2.0), local_relative_bounds=None, stepsize=None), ContinuousInput(type='ContinuousInput', key='Residence Time', unit='minutes', bounds=(1.0, 10.0), local_relative_bounds=None, stepsize=None), CategoricalInput(type='CategoricalInput', key='Catalyst', categories=['[P1-L1]', '[P2-L1]', '[P1-L2]', '[P1-L3]', '[P1-L4]', '[P1-L5]', '[P1-L6]', '[P1-L7]'], allowed=[True, True, True, True, True, True, True, True])]\n",
      "output_features: type='Outputs' features=[ContinuousOutput(type='ContinuousOutput', key='Yield', unit=None, objective=MaximizeObjective(type='MaximizeObjective', w=1.0, bounds=(0, 1)))]\n"
     ]
    }
   ],
   "source": [
    "# we now have\n",
    "print('input_features:', input_features)\n",
    "print('output_features:', output_features)"
   ]
  },
  {
   "cell_type": "code",
   "execution_count": 7,
   "metadata": {},
   "outputs": [],
   "source": [
    "# The domain is now the object that holds the entire optimization problem / problem definition.\n",
    "domain = Domain(\n",
    "    inputs = input_features,\n",
    "    outputs = output_features,\n",
    ")"
   ]
  },
  {
   "cell_type": "code",
   "execution_count": 8,
   "metadata": {},
   "outputs": [
    {
     "data": {
      "text/html": [
       "<div>\n",
       "<style scoped>\n",
       "    .dataframe tbody tr th:only-of-type {\n",
       "        vertical-align: middle;\n",
       "    }\n",
       "\n",
       "    .dataframe tbody tr th {\n",
       "        vertical-align: top;\n",
       "    }\n",
       "\n",
       "    .dataframe thead th {\n",
       "        text-align: right;\n",
       "    }\n",
       "</style>\n",
       "<table border=\"1\" class=\"dataframe\">\n",
       "  <thead>\n",
       "    <tr style=\"text-align: right;\">\n",
       "      <th></th>\n",
       "      <th>Type</th>\n",
       "      <th>Description</th>\n",
       "    </tr>\n",
       "  </thead>\n",
       "  <tbody>\n",
       "    <tr>\n",
       "      <th>Catalyst Loading</th>\n",
       "      <td>ContinuousInput</td>\n",
       "      <td>[0.5,2.0]</td>\n",
       "    </tr>\n",
       "    <tr>\n",
       "      <th>Residence Time</th>\n",
       "      <td>ContinuousInput</td>\n",
       "      <td>[1.0,10.0]</td>\n",
       "    </tr>\n",
       "    <tr>\n",
       "      <th>Temperature</th>\n",
       "      <td>ContinuousInput</td>\n",
       "      <td>[30.0,110.0]</td>\n",
       "    </tr>\n",
       "    <tr>\n",
       "      <th>Catalyst</th>\n",
       "      <td>CategoricalInput</td>\n",
       "      <td>8 categories</td>\n",
       "    </tr>\n",
       "    <tr>\n",
       "      <th>Yield</th>\n",
       "      <td>ContinuousOutput</td>\n",
       "      <td>ContinuousOutputFeature</td>\n",
       "    </tr>\n",
       "  </tbody>\n",
       "</table>\n",
       "</div>"
      ],
      "text/plain": [
       "                              Type              Description\n",
       "Catalyst Loading   ContinuousInput                [0.5,2.0]\n",
       "Residence Time     ContinuousInput               [1.0,10.0]\n",
       "Temperature        ContinuousInput             [30.0,110.0]\n",
       "Catalyst          CategoricalInput             8 categories\n",
       "Yield             ContinuousOutput  ContinuousOutputFeature"
      ]
     },
     "execution_count": 8,
     "metadata": {},
     "output_type": "execute_result"
    }
   ],
   "source": [
    "# you can now have a pretty printout of your domain via\n",
    "(domain.inputs+domain.outputs).get_reps_df()"
   ]
  },
  {
   "cell_type": "code",
   "execution_count": 9,
   "metadata": {},
   "outputs": [
    {
     "name": "stdout",
     "output_type": "stream",
     "text": [
      "Catalyst Loading | [0.5,2.0]\n",
      "Residence Time | [1.0,10.0]\n",
      "Temperature | [30.0,110.0]\n",
      "Catalyst | 8 categories\n"
     ]
    }
   ],
   "source": [
    "# and you can access your domain features via \n",
    "for feature_key in  domain.inputs.get_keys(): # this will get all the feature names and loop over them\n",
    "    input_feature = domain.inputs.get_by_key(feature_key) # we can extract the individual feature object by asking for it by name\n",
    "    print(feature_key, '|',  input_feature)"
   ]
  },
  {
   "cell_type": "code",
   "execution_count": 10,
   "metadata": {},
   "outputs": [
    {
     "name": "stdout",
     "output_type": "stream",
     "text": [
      "Yield  |  ContinuousOutput(type='ContinuousOutput', key='Yield', unit=None, objective=MaximizeObjective(type='MaximizeObjective', w=1.0, bounds=(0, 1)))\n"
     ]
    }
   ],
   "source": [
    "# as well as the output features as\n",
    "# and you can access your domain features via \n",
    "for feature_key in  domain.outputs.get_keys(): # this will get all the feature names and loop over them\n",
    "    output_feature = domain.outputs.get_by_key(feature_key) # we can extract the individual feature object by asking for it by name\n",
    "    print(feature_key, ' | ',  output_feature.__repr__())"
   ]
  },
  {
   "cell_type": "code",
   "execution_count": 11,
   "metadata": {},
   "outputs": [
    {
     "data": {
      "text/html": [
       "<div>\n",
       "<style scoped>\n",
       "    .dataframe tbody tr th:only-of-type {\n",
       "        vertical-align: middle;\n",
       "    }\n",
       "\n",
       "    .dataframe tbody tr th {\n",
       "        vertical-align: top;\n",
       "    }\n",
       "\n",
       "    .dataframe thead th {\n",
       "        text-align: right;\n",
       "    }\n",
       "</style>\n",
       "<table border=\"1\" class=\"dataframe\">\n",
       "  <thead>\n",
       "    <tr style=\"text-align: right;\">\n",
       "      <th></th>\n",
       "      <th>Type</th>\n",
       "      <th>Description</th>\n",
       "    </tr>\n",
       "  </thead>\n",
       "  <tbody>\n",
       "    <tr>\n",
       "      <th>Catalyst Loading</th>\n",
       "      <td>ContinuousInput</td>\n",
       "      <td>[0.5,2.0]</td>\n",
       "    </tr>\n",
       "    <tr>\n",
       "      <th>Residence Time</th>\n",
       "      <td>ContinuousInput</td>\n",
       "      <td>[1.0,10.0]</td>\n",
       "    </tr>\n",
       "    <tr>\n",
       "      <th>Temperature</th>\n",
       "      <td>ContinuousInput</td>\n",
       "      <td>[30.0,110.0]</td>\n",
       "    </tr>\n",
       "    <tr>\n",
       "      <th>Catalyst</th>\n",
       "      <td>CategoricalInput</td>\n",
       "      <td>8 categories</td>\n",
       "    </tr>\n",
       "    <tr>\n",
       "      <th>Yield</th>\n",
       "      <td>ContinuousOutput</td>\n",
       "      <td>ContinuousOutputFeature</td>\n",
       "    </tr>\n",
       "  </tbody>\n",
       "</table>\n",
       "</div>"
      ],
      "text/plain": [
       "                              Type              Description\n",
       "Catalyst Loading   ContinuousInput                [0.5,2.0]\n",
       "Residence Time     ContinuousInput               [1.0,10.0]\n",
       "Temperature        ContinuousInput             [30.0,110.0]\n",
       "Catalyst          CategoricalInput             8 categories\n",
       "Yield             ContinuousOutput  ContinuousOutputFeature"
      ]
     },
     "execution_count": 11,
     "metadata": {},
     "output_type": "execute_result"
    }
   ],
   "source": [
    "(domain.inputs+domain.outputs).get_reps_df()"
   ]
  },
  {
   "cell_type": "code",
   "execution_count": null,
   "metadata": {},
   "outputs": [],
   "source": []
  }
 ],
 "metadata": {
  "kernelspec": {
   "display_name": "Python 3 (ipykernel)",
   "language": "python",
   "name": "python3"
  },
  "language_info": {
   "codemirror_mode": {
    "name": "ipython",
    "version": 3
   },
   "file_extension": ".py",
   "mimetype": "text/x-python",
   "name": "python",
   "nbconvert_exporter": "python",
   "pygments_lexer": "ipython3",
   "version": "3.11.9"
  }
 },
 "nbformat": 4,
 "nbformat_minor": 4
}
