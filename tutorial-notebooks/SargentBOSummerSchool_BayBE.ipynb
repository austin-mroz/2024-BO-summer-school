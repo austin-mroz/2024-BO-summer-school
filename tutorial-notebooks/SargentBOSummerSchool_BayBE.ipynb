{
 "cells": [
  {
   "cell_type": "markdown",
   "metadata": {},
   "source": [
    "# Single-objective BO -- chemical representation comparison\n",
    "\n",
    "In this notebook, we will explore BO for a reaction optimization task.\n",
    "\n",
    "We will\n",
    "\n",
    "1. examine different chemical reactions\n",
    "2. code single-objective BO\n",
    "3. code multi-objective BO"
   ]
  },
  {
   "cell_type": "markdown",
   "metadata": {},
   "source": [
    "### install and import"
   ]
  },
  {
   "cell_type": "code",
   "execution_count": 5,
   "metadata": {},
   "outputs": [],
   "source": [
    "#!pip install git+https://github.com/austin-mroz/summit.git@mac-implementation gauche rdkit matplotlib baybe[chem]"
   ]
  },
  {
   "cell_type": "code",
   "execution_count": 6,
   "metadata": {},
   "outputs": [],
   "source": [
    "## install and import\n",
    "\n",
    "import numpy as np\n",
    "import os\n",
    "import pandas as pd\n",
    "import pathlib\n",
    "import matplotlib.pyplot as plt"
   ]
  },
  {
   "cell_type": "markdown",
   "metadata": {},
   "source": [
    "# Exploring chemical representations\n",
    "\n",
    "Here, we explore different ways to encode chemical systems, including one-hot encoding (OHE), extended connectivity fingerprints, and grpahs."
   ]
  },
  {
   "cell_type": "markdown",
   "metadata": {},
   "source": [
    "For this demonstration, we will calculate the chemical representations for the catalysts featured in our case study. \n",
    "\n",
    "The catalyst options are presented in Figure 1.\n",
    "\n",
    "<h5 align=\"center\">\n",
    "<img src=\"../imgs/catalyst_options.png\" class=\"img-fluid\" width=\"250\">\n",
    "\n",
    "Figure 1. The catalyst options included in this study.\n",
    "</h5>\n",
    "\n",
    "Let's load the smiles strings from the github!"
   ]
  },
  {
   "cell_type": "code",
   "execution_count": 7,
   "metadata": {},
   "outputs": [
    {
     "name": "stdout",
     "output_type": "stream",
     "text": [
      "  name                                             smiles\n",
      "0   L1  CC(C)c4cc(C(C)C)c(c1ccccc1P(C2CCCCC2)C3CCCCC3)...\n",
      "1   L2          CCc1cccc(CC)c1c2ccccc2P(C3CCCCC3)C4CCCCC4\n",
      "2   L3    CC(C)c1cccc(C(C)C)c1c2ccccc2P(C3CCCCC3)C4CCCCC4\n",
      "3   L4  CC7(C)c3cccc(P(c1ccccc1)c2ccccc2)c3Oc6c(P(c4cc...\n",
      "4   L5                      C3CCC(P(C1CCCCC1)C2CCCCC2)CC3\n",
      "5   L6             P(C1=CC=CC=C1)(C2=CC=CC=C2)C3=CC=CC=C3\n",
      "6   L7                        CC(C)(C)P(C(C)(C)C)C(C)(C)C\n"
     ]
    }
   ],
   "source": [
    "catalyst_smiles = pd.read_csv(pathlib.Path.cwd() / pathlib.Path(\"tutorial-resources/suzuki_miyaura_catalysts.csv\"))\n",
    "ligand_smiles = pd.read_csv(pathlib.Path.cwd() / pathlib.Path(\"tutorial-resources/suzuki_miyaura_ligands.csv\"))\n",
    "\n",
    "print(ligand_smiles)"
   ]
  },
  {
   "cell_type": "code",
   "execution_count": 8,
   "metadata": {},
   "outputs": [
    {
     "name": "stdout",
     "output_type": "stream",
     "text": [
      "['CC(C)c4cc(C(C)C)c(c1ccccc1P(C2CCCCC2)C3CCCCC3)c(C(C)C)c4', 'CCc1cccc(CC)c1c2ccccc2P(C3CCCCC3)C4CCCCC4', 'CC(C)c1cccc(C(C)C)c1c2ccccc2P(C3CCCCC3)C4CCCCC4', 'CC7(C)c3cccc(P(c1ccccc1)c2ccccc2)c3Oc6c(P(c4ccccc4)c5ccccc5)cccc67', 'C3CCC(P(C1CCCCC1)C2CCCCC2)CC3', 'P(C1=CC=CC=C1)(C2=CC=CC=C2)C3=CC=CC=C3', 'CC(C)(C)P(C(C)(C)C)C(C)(C)C']\n"
     ]
    }
   ],
   "source": [
    "ligand_list = list(ligand_smiles['smiles'])\n",
    "print(ligand_list)"
   ]
  },
  {
   "cell_type": "code",
   "execution_count": 9,
   "metadata": {},
   "outputs": [
    {
     "data": {
      "image/jpeg": "[encoded data removed]",
      "image/png": "[encoded data removed]",
      "text/plain": [
       "<PIL.PngImagePlugin.PngImageFile image mode=RGB size=300x300>"
      ]
     },
     "execution_count": 9,
     "metadata": {},
     "output_type": "execute_result"
    }
   ],
   "source": [
    "from rdkit import Chem\n",
    "from rdkit.Chem import Draw\n",
    "\n",
    "# first, generate the rdkit molecule object from the smiles\n",
    "mol_L6 = Chem.MolFromSmiles('P(C1=CC=CC=C1)(C2=CC=CC=C2)C3=CC=CC=C3')\n",
    "Draw.MolToImage(mol_L6)"
   ]
  },
  {
   "cell_type": "code",
   "execution_count": 10,
   "metadata": {},
   "outputs": [],
   "source": [
    "# create an rdkit molecule from the smiles\n",
    "rdmols = [Chem.MolFromSmiles(smiles) for smiles in ligand_list]\n"
   ]
  },
  {
   "cell_type": "code",
   "execution_count": 11,
   "metadata": {},
   "outputs": [],
   "source": [
    "from rdkit.Chem import AllChem\n",
    "fpgen = AllChem.GetMorganGenerator(radius=3)\n",
    "morgan_fingerprints = [fpgen.GetSparseCountFingerprint(mol) for mol in rdmols]"
   ]
  },
  {
   "cell_type": "code",
   "execution_count": 12,
   "metadata": {},
   "outputs": [],
   "source": [
    "def visualize_fingerprint_info(fp):\n",
    "    print(\"Number of elements: \", fp.size)\n",
    "    print(\"Types of entries: \", set(list(fp)))\n",
    "    print(\"Number of Ones: \", np.count_nonzero(fp))\n",
    "    plt.vlines(\n",
    "        [i for i in range(fp.size) if fp[i] > 0.5], ymin=0, ymax=300\n",
    "    )  # 300 gives a nice aspect ratio\n",
    "    plt.vlines(fp.size, ymin=0, ymax=0.0)  # dummy to calibrate scale\n",
    "    plt.gca().set_aspect(\"equal\")"
   ]
  },
  {
   "cell_type": "markdown",
   "metadata": {},
   "source": [
    "We can visualize the sparsity of the fingerprint!"
   ]
  },
  {
   "cell_type": "code",
   "execution_count": 13,
   "metadata": {},
   "outputs": [
    {
     "name": "stdout",
     "output_type": "stream",
     "text": [
      "Number of elements:  2048\n",
      "Types of entries:  {0, 1}\n",
      "Number of Ones:  51\n"
     ]
    },
    {
     "data": {
      "image/png": "[encoded data removed]",
      "text/plain": [
       "<Figure size 640x480 with 1 Axes>"
      ]
     },
     "metadata": {},
     "output_type": "display_data"
    }
   ],
   "source": [
    "fp = fpgen.GetFingerprintAsNumPy(rdmols[0])\n",
    "visualize_fingerprint_info(fp)"
   ]
  },
  {
   "cell_type": "markdown",
   "metadata": {},
   "source": [
    "## MORDRED molecular descriptors"
   ]
  },
  {
   "cell_type": "code",
   "execution_count": 14,
   "metadata": {},
   "outputs": [
    {
     "name": "stdout",
     "output_type": "stream",
     "text": [
      "the length of the 2D descriptors is: 1613\n",
      "the length of the 3D descriptors is: 1826\n"
     ]
    }
   ],
   "source": [
    "from mordred import Calculator, descriptors\n",
    "\n",
    "# create descriptor calculator with all descriptors\n",
    "calc_2D = Calculator(descriptors, ignore_3D=True)\n",
    "calc_3D = Calculator(descriptors, ignore_3D=False)\n",
    "print(f\"the length of the 2D descriptors is: {len(calc_2D)}\")\n",
    "print(f\"the length of the 3D descriptors is: {len(calc_3D)}\")"
   ]
  },
  {
   "cell_type": "code",
   "execution_count": 15,
   "metadata": {},
   "outputs": [
    {
     "name": "stderr",
     "output_type": "stream",
     "text": [
      "100%|██████████| 7/7 [00:01<00:00,  6.39it/s]\n",
      "100%|██████████| 7/7 [00:01<00:00,  6.96it/s]\n"
     ]
    }
   ],
   "source": [
    "df_2D = calc_2D.pandas(rdmols)\n",
    "df_3D = calc_3D.pandas(rdmols)"
   ]
  },
  {
   "cell_type": "markdown",
   "metadata": {},
   "source": [
    "# single-objective BO"
   ]
  },
  {
   "cell_type": "markdown",
   "metadata": {},
   "source": [
    "In this example, we are going to compare the performance of different chemical representations for the Suzuki-Miyaura cross-coupling reaction emulator that we explored earlier with Web-BO."
   ]
  },
  {
   "cell_type": "markdown",
   "metadata": {},
   "source": [
    "## description of case study"
   ]
  },
  {
   "cell_type": "markdown",
   "metadata": {},
   "source": [
    "For this example, we will explore an optimization case study that takes advantage of existing reaction emulators to acquire the experimental measurements.\n",
    "\n",
    "This case study concerns optimizng the coupling of 3-bromoquinoline with 3,5-dimehtylisoxazole-4-boronic acid pinacol ester in the presence of 1,8-diazobicyclo[5.4.0]undec-7-ene (DBU) and THF/water, Figure 1.\n",
    "\n",
    "<h5 align=\"center\">\n",
    "<img src=\"../imgs/reizman_reaction.png\" class=\"img-fluid\" width=\"400\">\n",
    "\n",
    "Figure 1. Suzuki-Miyaura cross-coupling reaction involved in this case study.\n",
    "</h5>\n",
    "\n",
    "The associated parameter space for this optimization task is detailed in Figure 2.\n",
    "\n",
    "<h5 align=\"center\">\n",
    "<img src=\"../imgs/parameter_space.png\" class=\"img-fluid\" width=\"400\">\n",
    "\n",
    "Figure 2. Parameter space spanned by this case study includes 3 continuous variables (catalyst loading, temperature, and residence time) and 1 categorical variable (catalyst).\n",
    "</h5>\n",
    "\n",
    "The catalyst options are presented in Figure 3.\n",
    "\n",
    "<h5 align=\"center\">\n",
    "<img src=\"../imgs/catalyst_options.png\" class=\"img-fluid\" width=\"400\">\n",
    "\n",
    "Figure 3. The catalyst options included in this study.\n",
    "</h5>\n",
    "\n",
    "This case study takes advantage of the experiment emulators offered by the <a zhref=\"https://github.com/sustainable-processes/summit\" class=\"tooltip-test\" title=\"Tooltip\">Summit</a> package. Specifically, the <a zhref=\"https://gosummit.readthedocs.io/en/latest/experiments_benchmarks/implemented_benchmarks.html#cross-coupling-emulator-benchmarks\" class=\"tooltip-test\" title=\"Tooltip\">Suzuki-Miyara Cross Coupling Emulator</a>. \n",
    "\n",
    "Within this case study we are interested in maximizing the _yield_.\n",
    "\n",
    "Below, we will walk through how to setup and perform a multi-objective optimization of this nature using three different optimization packages; BOTorch, BOFire, and BayBE."
   ]
  },
  {
   "cell_type": "code",
   "execution_count": 16,
   "metadata": {},
   "outputs": [
    {
     "name": "stderr",
     "output_type": "stream",
     "text": [
      "/home/bogosort/work/collaborations/LL/2024-BO-summer-school/main/.venv/lib/python3.10/site-packages/tqdm/auto.py:21: TqdmWarning: IProgress not found. Please update jupyter and ipywidgets. See https://ipywidgets.readthedocs.io/en/stable/user_install.html\n",
      "  from .autonotebook import tqdm as notebook_tqdm\n"
     ]
    }
   ],
   "source": [
    "# python imports required for this case study\n",
    "import summit\n",
    "from summit.benchmarks import get_pretrained_reizman_suzuki_emulator\n",
    "from summit.utils.dataset import DataSet"
   ]
  },
  {
   "cell_type": "markdown",
   "metadata": {},
   "source": [
    "## Getting familiar with the emulator\n",
    "\n",
    "The inputs ('conditions') for the emulator are the catalyst, residence time, temperature and catalyst loading. We will start our search with one data point, and in subsequent examples, explore how different initial parameters will change our optimization performance and trajectory.\n",
    "\n",
    "Let's start with one initial data point."
   ]
  },
  {
   "cell_type": "code",
   "execution_count": 17,
   "metadata": {},
   "outputs": [
    {
     "name": "stdout",
     "output_type": "stream",
     "text": [
      "NAME catalyst t_res temperature catalyst_loading      ton       yld  \\\n",
      "TYPE     DATA  DATA        DATA             DATA     DATA      DATA   \n",
      "0       P1-L3   600          30            0.498  0.57349  0.169307   \n",
      "\n",
      "NAME computation_t experiment_t strategy   ton_std   yld_std  \n",
      "TYPE      METADATA     METADATA METADATA  METADATA  METADATA  \n",
      "0              0.0     0.015048      NaN  0.700288  0.338615  \n"
     ]
    },
    {
     "name": "stderr",
     "output_type": "stream",
     "text": [
      "/home/bogosort/work/collaborations/LL/2024-BO-summer-school/main/.venv/lib/python3.10/site-packages/skorch/net.py:2395: FutureWarning: You are using `torch.load` with `weights_only=False` (the current default value), which uses the default pickle module implicitly. It is possible to construct malicious pickle data which will execute arbitrary code during unpickling (See https://github.com/pytorch/pytorch/blob/main/SECURITY.md#untrusted-models for more details). In a future release, the default value for `weights_only` will be flipped to `True`. This limits the functions that could be executed during unpickling. Arbitrary objects will no longer be allowed to be loaded via this mode unless they are explicitly allowlisted by the user via `torch.serialization.add_safe_globals`. We recommend you start setting `weights_only=True` for any use case where you don't have full control of the loaded file. Please open an issue on GitHub for any issues related to this experimental feature.\n",
      "  return torch.load(f, map_location=map_location)\n"
     ]
    }
   ],
   "source": [
    "# define our emulator\n",
    "emulator = get_pretrained_reizman_suzuki_emulator(case=1)\n",
    "initial_data_dictionary = { \"catalyst\": [\"P1-L3\"], \"t_res\": [600], \"temperature\": [30],\"catalyst_loading\": [0.498],}\n",
    "initial_conditions = DataSet.from_df(pd.DataFrame(initial_data_dictionary))\n",
    "results = emulator.run_experiments(initial_conditions, return_std=True)\n",
    "print(results)"
   ]
  },
  {
   "cell_type": "markdown",
   "metadata": {},
   "source": [
    "This is how we will query our parameter space when we are ready to 'perform an experiment' within our BO loop! In the following code, this will be automated, but we would like to note that this is not always the case. Indeed, experiments take time! And this will change how we structure our code.\n",
    "\n",
    "The catalyst is a categorical variable; we will transform this into a chemical variable for the BO implementation. To do this, we need the smiles representations for each of the "
   ]
  },
  {
   "cell_type": "code",
   "execution_count": 18,
   "metadata": {},
   "outputs": [
    {
     "name": "stderr",
     "output_type": "stream",
     "text": [
      "/home/bogosort/work/collaborations/LL/2024-BO-summer-school/main/.venv/lib/python3.10/site-packages/skorch/net.py:2395: FutureWarning: You are using `torch.load` with `weights_only=False` (the current default value), which uses the default pickle module implicitly. It is possible to construct malicious pickle data which will execute arbitrary code during unpickling (See https://github.com/pytorch/pytorch/blob/main/SECURITY.md#untrusted-models for more details). In a future release, the default value for `weights_only` will be flipped to `True`. This limits the functions that could be executed during unpickling. Arbitrary objects will no longer be allowed to be loaded via this mode unless they are explicitly allowlisted by the user via `torch.serialization.add_safe_globals`. We recommend you start setting `weights_only=True` for any use case where you don't have full control of the loaded file. Please open an issue on GitHub for any issues related to this experimental feature.\n",
      "  return torch.load(f, map_location=map_location)\n"
     ]
    }
   ],
   "source": [
    "emulator = get_pretrained_reizman_suzuki_emulator(case=1)\n",
    "initial_data_dictionary = { \"catalyst\": [\"P2-L1\"], \"t_res\": [600], \"temperature\": [30],\"catalyst_loading\": [0.498],}\n",
    "initial_conditions = DataSet.from_df(pd.DataFrame(initial_data_dictionary))\n",
    "results = emulator.run_experiments(initial_conditions, return_std=True)"
   ]
  },
  {
   "cell_type": "markdown",
   "metadata": {},
   "source": [
    "### start by defining your function that queries the emulator\n",
    "\n",
    "We will define a function (`perform_experiment`) that takes in the initial conditions and queries the pretrained emulator."
   ]
  },
  {
   "cell_type": "code",
   "execution_count": 19,
   "metadata": {},
   "outputs": [],
   "source": [
    "def perform_experiment(data_dictionary: dict, emulator:summit.benchmarks.experimental_emulator.ReizmanSuzukiEmulator) -> dict:\n",
    "    conditions = DataSet.from_df(pd.DataFrame(data_dictionary))\n",
    "    return emulator.run_experiments(conditions, return_std=False)"
   ]
  },
  {
   "cell_type": "markdown",
   "metadata": {},
   "source": [
    "### we will compare different chemical reactions\n",
    "Let's get the smiles for the chemical variable"
   ]
  },
  {
   "cell_type": "code",
   "execution_count": 20,
   "metadata": {},
   "outputs": [],
   "source": [
    "available_catalysts = {\n",
    "    \"P1-L1\": f\"{catalyst_smiles[catalyst_smiles['name'] == 'P1']['smiles'].values[0]}.{ligand_smiles[ligand_smiles['name'] == 'L1']['smiles'].values[0]}\",\n",
    "    \"P1-L2\": f\"{catalyst_smiles[catalyst_smiles['name'] == 'P1']['smiles'].values[0]}.{ligand_smiles[ligand_smiles['name'] == 'L2']['smiles'].values[0]}\",\n",
    "    \"P1-L3\": f\"{catalyst_smiles[catalyst_smiles['name'] == 'P1']['smiles'].values[0]}.{ligand_smiles[ligand_smiles['name'] == 'L3']['smiles'].values[0]}\",\n",
    "    \"P1-L4\": f\"{catalyst_smiles[catalyst_smiles['name'] == 'P1']['smiles'].values[0]}.{ligand_smiles[ligand_smiles['name'] == 'L4']['smiles'].values[0]}\",\n",
    "    \"P1-L5\": f\"{catalyst_smiles[catalyst_smiles['name'] == 'P1']['smiles'].values[0]}.{ligand_smiles[ligand_smiles['name'] == 'L5']['smiles'].values[0]}\",\n",
    "    \"P1-L6\": f\"{catalyst_smiles[catalyst_smiles['name'] == 'P1']['smiles'].values[0]}.{ligand_smiles[ligand_smiles['name'] == 'L6']['smiles'].values[0]}\",\n",
    "    \"P1-L7\": f\"{catalyst_smiles[catalyst_smiles['name'] == 'P1']['smiles'].values[0]}.{ligand_smiles[ligand_smiles['name'] == 'L7']['smiles'].values[0]}\",\n",
    "    \"P2-L1\": f\"{catalyst_smiles[catalyst_smiles['name'] == 'P2']['smiles'].values[0]}.{ligand_smiles[ligand_smiles['name'] == 'L1']['smiles'].values[0]}\",\n",
    "}"
   ]
  },
  {
   "cell_type": "markdown",
   "metadata": {},
   "source": [
    "### Define our parameter space"
   ]
  },
  {
   "cell_type": "code",
   "execution_count": 21,
   "metadata": {},
   "outputs": [],
   "source": [
    "from baybe.parameters import CategoricalParameter, NumericalContinuousParameter, SubstanceParameter\n",
    "\n",
    "parameters = [\n",
    "    SubstanceParameter(\n",
    "        name=\"catalyst\",\n",
    "        data=available_catalysts,\n",
    "        encoding=\"MORDRED\"\n",
    "    ),\n",
    "    NumericalContinuousParameter(\n",
    "        name=\"catalyst_loading\",\n",
    "        bounds=(0.5,2.0),\n",
    "    ),\n",
    "    NumericalContinuousParameter(\n",
    "        name=\"temperature\",\n",
    "        bounds=(30,110),\n",
    "    ),\n",
    "    NumericalContinuousParameter(\n",
    "        name=\"t_res\",\n",
    "        bounds=(1,10),\n",
    "    )\n",
    "]"
   ]
  },
  {
   "cell_type": "markdown",
   "metadata": {},
   "source": [
    "Define our search space from the parameters:"
   ]
  },
  {
   "cell_type": "code",
   "execution_count": 22,
   "metadata": {},
   "outputs": [
    {
     "name": "stderr",
     "output_type": "stream",
     "text": [
      "[MemorizedFunc(func=<function _smiles_to_mordred_features at 0x73f3df15d090>, location=/tmp/.baybe_cache)]: Clearing function cache identified by baybe/utils/chemistry/_smiles_to_mordred_features\n"
     ]
    },
    {
     "name": "stdout",
     "output_type": "stream",
     "text": [
      "________________________________________________________________________________\n",
      "[Memory] Calling baybe.utils.chemistry._smiles_to_mordred_features...\n",
      "_smiles_to_mordred_features('CS(=O)(=O)O[Pd]3(Br)[NH2+]c1ccccc1c2ccccc23.CC(C)c4cc(C(C)C)c(c1ccccc1P(C2CCCCC2)C3CCCCC3)c(C(C)C)c4')\n",
      "_______________________________________smiles_to_mordred_features - 0.8s, 0.0min\n",
      "________________________________________________________________________________\n",
      "[Memory] Calling baybe.utils.chemistry._smiles_to_mordred_features...\n",
      "_smiles_to_mordred_features('CS(=O)(=O)O[Pd]3(Br)[NH2+]c1ccccc1c2ccccc23.CCc1cccc(CC)c1c2ccccc2P(C3CCCCC3)C4CCCCC4')\n",
      "_______________________________________smiles_to_mordred_features - 0.8s, 0.0min\n",
      "________________________________________________________________________________\n",
      "[Memory] Calling baybe.utils.chemistry._smiles_to_mordred_features...\n",
      "_smiles_to_mordred_features('CS(=O)(=O)O[Pd]3(Br)[NH2+]c1ccccc1c2ccccc23.CC(C)c1cccc(C(C)C)c1c2ccccc2P(C3CCCCC3)C4CCCCC4')\n",
      "_______________________________________smiles_to_mordred_features - 0.7s, 0.0min\n",
      "________________________________________________________________________________\n",
      "[Memory] Calling baybe.utils.chemistry._smiles_to_mordred_features...\n",
      "_smiles_to_mordred_features('CS(=O)(=O)O[Pd]3(Br)[NH2+]c1ccccc1c2ccccc23.CC7(C)c3cccc(P(c1ccccc1)c2ccccc2)c3Oc6c(P(c4ccccc4)c5ccccc5)cccc67')\n",
      "_______________________________________smiles_to_mordred_features - 1.1s, 0.0min\n",
      "________________________________________________________________________________\n",
      "[Memory] Calling baybe.utils.chemistry._smiles_to_mordred_features...\n",
      "_smiles_to_mordred_features('CS(=O)(=O)O[Pd]3(Br)[NH2+]c1ccccc1c2ccccc23.C3CCC(P(C1CCCCC1)C2CCCCC2)CC3')\n",
      "_______________________________________smiles_to_mordred_features - 0.4s, 0.0min\n",
      "________________________________________________________________________________\n",
      "[Memory] Calling baybe.utils.chemistry._smiles_to_mordred_features...\n",
      "_smiles_to_mordred_features('CS(=O)(=O)O[Pd]3(Br)[NH2+]c1ccccc1c2ccccc23.P(C1=CC=CC=C1)(C2=CC=CC=C2)C3=CC=CC=C3')\n",
      "_______________________________________smiles_to_mordred_features - 0.4s, 0.0min\n",
      "________________________________________________________________________________\n",
      "[Memory] Calling baybe.utils.chemistry._smiles_to_mordred_features...\n",
      "_smiles_to_mordred_features('CS(=O)(=O)O[Pd]3(Br)[NH2+]c1ccccc1c2ccccc23.CC(C)(C)P(C(C)(C)C)C(C)(C)C')\n",
      "_______________________________________smiles_to_mordred_features - 0.3s, 0.0min\n",
      "________________________________________________________________________________\n",
      "[Memory] Calling baybe.utils.chemistry._smiles_to_mordred_features...\n",
      "_smiles_to_mordred_features('Cl[Pd]3(Br)[NH2+]c1ccccc1c2ccccc23.CC(C)c4cc(C(C)C)c(c1ccccc1P(C2CCCCC2)C3CCCCC3)c(C(C)C)c4')\n",
      "_______________________________________smiles_to_mordred_features - 0.7s, 0.0min\n"
     ]
    }
   ],
   "source": [
    "from baybe.searchspace import SearchSpace\n",
    "searchspace = SearchSpace.from_product(parameters)"
   ]
  },
  {
   "cell_type": "code",
   "execution_count": 24,
   "metadata": {},
   "outputs": [
    {
     "name": "stderr",
     "output_type": "stream",
     "text": [
      "/home/bogosort/work/collaborations/LL/2024-BO-summer-school/main/.venv/lib/python3.10/site-packages/baybe/objective.py:18: DeprecationWarning: The use of `baybe.objective` is deprecated and will be disabled in a future version. Use the classes defined in `baybe.objectives` instead.\n",
      "  warnings.warn(\n",
      "/home/bogosort/work/collaborations/LL/2024-BO-summer-school/main/.venv/lib/python3.10/site-packages/baybe/recommenders/pure/bayesian/sequential_greedy.py:10: DeprecationWarning: The class `SequentialGreedyRecommender` has been deprecated and will be removed in a future version. Please use `BotorchRecommender(sequential_continuous=True)` instead.\n",
      "  warnings.warn(\n"
     ]
    }
   ],
   "source": [
    "from baybe.targets import NumericalTarget\n",
    "from baybe.recommenders import RandomRecommender, SequentialGreedyRecommender, TwoPhaseMetaRecommender\n",
    "from baybe.surrogates import GaussianProcessSurrogate\n",
    "from baybe import Campaign\n",
    "from baybe.objective import Objective\n",
    "from baybe.acquisition.acqfs import ExpectedImprovement # see others at https://emdgroup.github.io/baybe/_autosummary/baybe.acquisition.acqfs.html#module-baybe.acquisition.acqfs\n",
    "\n",
    "objective = Objective(mode=\"SINGLE\", targets=[NumericalTarget(name=\"yld\", mode=f\"MAX\")])\n",
    "\n",
    "recommender = TwoPhaseMetaRecommender(\n",
    "    initial_recommender=RandomRecommender(),\n",
    "    recommender=SequentialGreedyRecommender(\n",
    "        surrogate_model=GaussianProcessSurrogate(),\n",
    "        acquisition_function=ExpectedImprovement(),\n",
    "        allow_repeated_recommendations=False,\n",
    "        allow_recommending_already_measured=False,\n",
    "    )\n",
    ")"
   ]
  },
  {
   "cell_type": "code",
   "execution_count": 25,
   "metadata": {},
   "outputs": [],
   "source": [
    "campaign = Campaign(\n",
    "    searchspace=searchspace,\n",
    "    recommender=recommender,\n",
    "    objective=objective,\n",
    ")"
   ]
  },
  {
   "cell_type": "code",
   "execution_count": 26,
   "metadata": {},
   "outputs": [],
   "source": [
    "def perform_df_experiment(data_df: pd.DataFrame, emulator:summit.benchmarks.experimental_emulator.ReizmanSuzukiEmulator) -> dict:\n",
    "    conditions = DataSet.from_df(data_df)\n",
    "    measurements = emulator.run_experiments(conditions, return_std=True)\n",
    "    print(measurements)\n",
    "    print(list(measurements.to_numpy()[:,5]))\n",
    "    return measurements.to_numpy()[:, 5]"
   ]
  },
  {
   "cell_type": "markdown",
   "metadata": {},
   "source": [
    "## Your task\n",
    "\n",
    "Write the BO loop! You have a budget of 200 experiments -- see how far you can get!\n",
    "\n",
    "Consider what you can modify?"
   ]
  },
  {
   "cell_type": "code",
   "execution_count": null,
   "metadata": {},
   "outputs": [],
   "source": []
  },
  {
   "cell_type": "markdown",
   "metadata": {},
   "source": [
    "# Can you extend this to the multi-objective case?"
   ]
  },
  {
   "cell_type": "code",
   "execution_count": null,
   "metadata": {},
   "outputs": [],
   "source": []
  }
 ],
 "metadata": {
  "kernelspec": {
   "display_name": "Python 3",
   "language": "python",
   "name": "python3"
  },
  "language_info": {
   "codemirror_mode": {
    "name": "ipython",
    "version": 3
   },
   "file_extension": ".py",
   "mimetype": "text/x-python",
   "name": "python",
   "nbconvert_exporter": "python",
   "pygments_lexer": "ipython3",
   "version": "3.10.14"
  }
 },
 "nbformat": 4,
 "nbformat_minor": 2
}
